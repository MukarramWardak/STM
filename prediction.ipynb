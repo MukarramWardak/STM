{
 "cells": [
  {
   "cell_type": "code",
   "execution_count": 2,
   "metadata": {},
   "outputs": [],
   "source": [
    "from openai import OpenAI\n",
    "import yaml\n",
    "from models import Task\n",
    "import os\n",
    "\n",
    "client = OpenAI(\n",
    "    api_key=os.environ.get(\"OPENAI_API_KEY\")\n",
    ")\n",
    "\n",
    "def load_config(file_path):\n",
    "    with open(file_path,'r') as file:\n",
    "        return yaml.safe_load(file)\n",
    "\n",
    "config=load_config('config.yaml')\n",
    "tools=config['openai_tool']"
   ]
  },
  {
   "cell_type": "code",
   "execution_count": 3,
   "metadata": {},
   "outputs": [
    {
     "data": {
      "text/plain": [
       "{'tool1': {'messages': [{'role': 'system',\n",
       "    'content': 'Categorize the task into one of the following: Work, Personal, Errand, Study, Health, Other.'},\n",
       "   {'role': 'user',\n",
       "    'content': 'Task Title: {title}\\nDescription: {description}\\n'}],\n",
       "  'model': 'gpt-4o-mini',\n",
       "  'temperature': 0.6,\n",
       "  'max_tokens': 40},\n",
       " 'tool2': {'messages': [{'role': 'system', 'content': 'Summarize the task.'},\n",
       "   {'role': 'user',\n",
       "    'content': 'Task Title: {title}\\nDescription: {description}\\n'}],\n",
       "  'model': 'gpt-4o-mini',\n",
       "  'temperature': 1.0,\n",
       "  'max_tokens': 100}}"
      ]
     },
     "execution_count": 3,
     "metadata": {},
     "output_type": "execute_result"
    }
   ],
   "source": [
    "tools"
   ]
  },
  {
   "cell_type": "code",
   "execution_count": 4,
   "metadata": {},
   "outputs": [
    {
     "data": {
      "text/plain": [
       "{'messages': [{'role': 'system',\n",
       "   'content': 'Categorize the task into one of the following: Work, Personal, Errand, Study, Health, Other.'},\n",
       "  {'role': 'user',\n",
       "   'content': 'Task Title: {title}\\nDescription: {description}\\n'}],\n",
       " 'model': 'gpt-4o-mini',\n",
       " 'temperature': 0.6,\n",
       " 'max_tokens': 40}"
      ]
     },
     "execution_count": 4,
     "metadata": {},
     "output_type": "execute_result"
    }
   ],
   "source": [
    "tools[\"tool1\"]"
   ]
  },
  {
   "cell_type": "code",
   "execution_count": 5,
   "metadata": {},
   "outputs": [],
   "source": [
    "title = \"Finish Assignment\"\n",
    "description = \"Complete the math assignment by tonight.\""
   ]
  },
  {
   "cell_type": "code",
   "execution_count": 6,
   "metadata": {},
   "outputs": [],
   "source": [
    "tool1 = config[\"openai_tool\"][\"tool1\"][\"messages\"][1][\"content\"].format(title=title, description=description)"
   ]
  },
  {
   "cell_type": "code",
   "execution_count": 7,
   "metadata": {},
   "outputs": [
    {
     "data": {
      "text/plain": [
       "{'tool1': {'messages': [{'role': 'system',\n",
       "    'content': 'Categorize the task into one of the following: Work, Personal, Errand, Study, Health, Other.'},\n",
       "   {'role': 'user',\n",
       "    'content': 'Task Title: {title}\\nDescription: {description}\\n'}],\n",
       "  'model': 'gpt-4o-mini',\n",
       "  'temperature': 0.6,\n",
       "  'max_tokens': 40},\n",
       " 'tool2': {'messages': [{'role': 'system', 'content': 'Summarize the task.'},\n",
       "   {'role': 'user',\n",
       "    'content': 'Task Title: {title}\\nDescription: {description}\\n'}],\n",
       "  'model': 'gpt-4o-mini',\n",
       "  'temperature': 1.0,\n",
       "  'max_tokens': 100}}"
      ]
     },
     "execution_count": 7,
     "metadata": {},
     "output_type": "execute_result"
    }
   ],
   "source": [
    "tools"
   ]
  },
  {
   "cell_type": "code",
   "execution_count": 8,
   "metadata": {},
   "outputs": [
    {
     "name": "stdout",
     "output_type": "stream",
     "text": [
      "Category: Personal\n"
     ]
    }
   ],
   "source": [
    "response = client.chat.completions.create(\n",
    "    model=tools[\"tool1\"][\"model\"],\n",
    "    messages=[\n",
    "        {\"role\": \"system\", \"content\": tools[\"tool1\"][\"messages\"][0][\"content\"]},\n",
    "        {\"role\": \"user\", \"content\": \"Task Title: dota 2\\nDescription: play dota with boys at 9pm\"}\n",
    "    ],\n",
    "    temperature=tools[\"tool1\"][\"temperature\"],\n",
    "    max_tokens=tools[\"tool1\"][\"max_tokens\"]\n",
    ")\n",
    "answer = response.choices[0].message.content.strip()\n",
    "print(answer)\n"
   ]
  },
  {
   "cell_type": "code",
   "execution_count": 99,
   "metadata": {},
   "outputs": [
    {
     "data": {
      "text/plain": [
       "'Category: Personal'"
      ]
     },
     "execution_count": 99,
     "metadata": {},
     "output_type": "execute_result"
    }
   ],
   "source": [
    "response.choices[0].message.content"
   ]
  },
  {
   "cell_type": "code",
   "execution_count": 1,
   "metadata": {},
   "outputs": [],
   "source": [
    "from firebase_admin import firestore,credentials\n",
    "import firebase_admin\n",
    "cred = credentials.Certificate(\"serviceAccountKey.json\")\n",
    "firebase_admin.initialize_app(cred)\n",
    "db = firestore.client()\n",
    "task_ref=db.collection('tasks')"
   ]
  },
  {
   "cell_type": "code",
   "execution_count": 2,
   "metadata": {},
   "outputs": [
    {
     "data": {
      "text/plain": [
       "<google.cloud.firestore_v1.client.Client at 0x1ad59d08b00>"
      ]
     },
     "execution_count": 2,
     "metadata": {},
     "output_type": "execute_result"
    }
   ],
   "source": [
    "db"
   ]
  },
  {
   "cell_type": "code",
   "execution_count": 14,
   "metadata": {},
   "outputs": [],
   "source": [
    "id_ref = db.collection(\"tasks\").document(\"gVvoyJy5ZQRSdLAEHrUa\")\n",
    "collections = id_ref.collections()\n",
    "for collection in collections:\n",
    "    for doc in collection.stream():\n",
    "        print(f\"{doc.id} => {doc.to_dict()}\")"
   ]
  },
  {
   "cell_type": "code",
   "execution_count": 3,
   "metadata": {},
   "outputs": [
    {
     "ename": "NameError",
     "evalue": "name 'db' is not defined",
     "output_type": "error",
     "traceback": [
      "\u001b[1;31m---------------------------------------------------------------------------\u001b[0m",
      "\u001b[1;31mNameError\u001b[0m                                 Traceback (most recent call last)",
      "Cell \u001b[1;32mIn[3], line 1\u001b[0m\n\u001b[1;32m----> 1\u001b[0m doc_ref \u001b[38;5;241m=\u001b[39m \u001b[43mdb\u001b[49m\u001b[38;5;241m.\u001b[39mcollection(\u001b[38;5;124m\"\u001b[39m\u001b[38;5;124mtasks\u001b[39m\u001b[38;5;124m\"\u001b[39m)\u001b[38;5;241m.\u001b[39mdocument(\u001b[38;5;124m\"\u001b[39m\u001b[38;5;124mgVvoyJy5ZQRSdLAEHrUa\u001b[39m\u001b[38;5;124m\"\u001b[39m)\n\u001b[0;32m      3\u001b[0m doc \u001b[38;5;241m=\u001b[39m doc_ref\u001b[38;5;241m.\u001b[39mget()\n\u001b[0;32m      4\u001b[0m \u001b[38;5;28;01mif\u001b[39;00m doc\u001b[38;5;241m.\u001b[39mexists:\n",
      "\u001b[1;31mNameError\u001b[0m: name 'db' is not defined"
     ]
    }
   ],
   "source": [
    "doc_ref = db.collection(\"tasks\").document(\"gVvoyJy5ZQRSdLAEHrUa\")\n",
    "\n",
    "doc = doc_ref.get()\n",
    "if doc.exists:\n",
    "    print(f\"Document data: {doc.to_dict()}\")\n",
    "else:\n",
    "    print(\"No such document!\")"
   ]
  },
  {
   "cell_type": "code",
   "execution_count": 7,
   "metadata": {},
   "outputs": [
    {
     "data": {
      "text/plain": [
       "<google.cloud.firestore_v1.document.DocumentReference at 0x1a99cf8c3e0>"
      ]
     },
     "execution_count": 7,
     "metadata": {},
     "output_type": "execute_result"
    }
   ],
   "source": [
    "city_ref"
   ]
  },
  {
   "cell_type": "code",
   "execution_count": 32,
   "metadata": {},
   "outputs": [],
   "source": [
    "def task_db(id: str):\n",
    "    doc_ref = db.collection(\"tasks\").document(id)\n",
    "    doc = doc_ref.get()\n",
    "    if doc.exists:\n",
    "        return doc.to_dict()\n",
    "    else:\n",
    "        raise ValueError(\"Task not found\")"
   ]
  },
  {
   "cell_type": "code",
   "execution_count": 33,
   "metadata": {},
   "outputs": [],
   "source": [
    "task=task_db(\"gVvoyJy5ZQRSdLAEHrUa\")"
   ]
  },
  {
   "cell_type": "code",
   "execution_count": 34,
   "metadata": {},
   "outputs": [
    {
     "data": {
      "text/plain": [
       "'Need to take my mother to the hospital for her daily checkup.'"
      ]
     },
     "execution_count": 34,
     "metadata": {},
     "output_type": "execute_result"
    }
   ],
   "source": [
    "task.get('description')"
   ]
  },
  {
   "cell_type": "code",
   "execution_count": 60,
   "metadata": {},
   "outputs": [
    {
     "name": "stdout",
     "output_type": "stream",
     "text": [
      "['__call__', '__class__', '__delattr__', '__dir__', '__doc__', '__eq__', '__format__', '__func__', '__ge__', '__getattribute__', '__getstate__', '__gt__', '__hash__', '__init__', '__init_subclass__', '__le__', '__lt__', '__ne__', '__new__', '__reduce__', '__reduce_ex__', '__repr__', '__self__', '__setattr__', '__sizeof__', '__str__', '__subclasshook__']\n"
     ]
    }
   ],
   "source": [
    "print(dir(t))\n"
   ]
  },
  {
   "cell_type": "code",
   "execution_count": null,
   "metadata": {},
   "outputs": [],
   "source": []
  },
  {
   "cell_type": "code",
   "execution_count": null,
   "metadata": {},
   "outputs": [],
   "source": []
  }
 ],
 "metadata": {
  "kernelspec": {
   "display_name": "task103",
   "language": "python",
   "name": "python3"
  },
  "language_info": {
   "codemirror_mode": {
    "name": "ipython",
    "version": 3
   },
   "file_extension": ".py",
   "mimetype": "text/x-python",
   "name": "python",
   "nbconvert_exporter": "python",
   "pygments_lexer": "ipython3",
   "version": "3.12.4"
  }
 },
 "nbformat": 4,
 "nbformat_minor": 2
}
